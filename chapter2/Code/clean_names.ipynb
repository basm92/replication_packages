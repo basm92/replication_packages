{
 "cells": [
  {
   "cell_type": "code",
   "execution_count": 13,
   "metadata": {},
   "outputs": [],
   "source": [
    "import pandas as pd\n",
    "import numpy as np\n",
    "import re\n",
    "\n",
    "#start off with the scraped files"
   ]
  },
  {
   "cell_type": "code",
   "execution_count": 28,
   "metadata": {},
   "outputs": [
    {
     "name": "stdout",
     "output_type": "stream",
     "text": [
      "      Unnamed: 0                                             Name Parliament\n",
      "0              0                               Dirk van Akerlaken  1871-1875\n",
      "1              1                           Willem Adriaan Bergsma  1871-1875\n",
      "2              2                    Sybrand van Beyma thoe Kingma  1871-1875\n",
      "3              3  Charles Antoine de Bieberstein Rogalla Zawadsky  1871-1875\n",
      "4              4                    François Willem Cornelis Blom  1871-1875\n",
      "...          ...                                              ...        ...\n",
      "1818         113                                   Hendrik Albeda  1918-1922\n",
      "1819         114                                      Arend Braat  1918-1922\n",
      "1820         115                            Henri van Groenendael  1918-1922\n",
      "1821         116                             Eeltjo van Beresteyn  1918-1922\n",
      "1822         117                            Edsge Marten Teenstra  1918-1922\n",
      "\n",
      "[1823 rows x 3 columns]\n"
     ]
    }
   ],
   "source": [
    "pd.set_option(\"display.max_rows\", 20)\n",
    "data = pd.read_csv(\"../Data/lowerhouse.csv\") \n",
    "\n",
    "print(data)"
   ]
  },
  {
   "cell_type": "code",
   "execution_count": 29,
   "metadata": {},
   "outputs": [],
   "source": [
    "#define function\n",
    "def cleanname(text):\n",
    "    text = re.sub(\" vanaf (.+)| tot (.+)| \\\\[\\d\\\\]| \\\\(overleden(.+)\\\\)| \\\\([A-Z]+\\\\)| van \\d{1,2} (.+)\", \"\", text)\n",
    "    return text\n",
    "\n",
    "#clean\n",
    "data['Name'] = data['Name'].apply(cleanname)\n"
   ]
  },
  {
   "cell_type": "code",
   "execution_count": 30,
   "metadata": {},
   "outputs": [
    {
     "name": "stdout",
     "output_type": "stream",
     "text": [
      "      Unnamed: 0                                             Name Parliament\n",
      "0              0                               Dirk van Akerlaken  1871-1875\n",
      "1              1                           Willem Adriaan Bergsma  1871-1875\n",
      "2              2                    Sybrand van Beyma thoe Kingma  1871-1875\n",
      "3              3  Charles Antoine de Bieberstein Rogalla Zawadsky  1871-1875\n",
      "4              4                    François Willem Cornelis Blom  1871-1875\n",
      "...          ...                                              ...        ...\n",
      "1818         113                                   Hendrik Albeda  1918-1922\n",
      "1819         114                                      Arend Braat  1918-1922\n",
      "1820         115                            Henri van Groenendael  1918-1922\n",
      "1821         116                             Eeltjo van Beresteyn  1918-1922\n",
      "1822         117                            Edsge Marten Teenstra  1918-1922\n",
      "\n",
      "[1823 rows x 3 columns]\n"
     ]
    }
   ],
   "source": [
    "print(data)"
   ]
  },
  {
   "cell_type": "code",
   "execution_count": 31,
   "metadata": {},
   "outputs": [
    {
     "name": "stdout",
     "output_type": "stream",
     "text": [
      "      Unnamed: 0                                             Name Parliament\n",
      "0              0                               Dirk van Akerlaken  1871-1875\n",
      "1              1                           Willem Adriaan Bergsma  1871-1875\n",
      "2              2                    Sybrand van Beyma thoe Kingma  1871-1875\n",
      "3              3  Charles Antoine de Bieberstein Rogalla Zawadsky  1871-1875\n",
      "4              4                    François Willem Cornelis Blom  1871-1875\n",
      "...          ...                                              ...        ...\n",
      "1818         113                                   Hendrik Albeda  1918-1922\n",
      "1819         114                                      Arend Braat  1918-1922\n",
      "1820         115                            Henri van Groenendael  1918-1922\n",
      "1821         116                             Eeltjo van Beresteyn  1918-1922\n",
      "1822         117                            Edsge Marten Teenstra  1918-1922\n",
      "\n",
      "[1823 rows x 3 columns]\n"
     ]
    }
   ],
   "source": [
    "# correct a few names manually so they are easier to match (old = new)\n",
    "# Pieter Hendrik Taets van Amerongen = Pieter Hendrik Taets van Amerongen tot Natewisch\n",
    "# Gijsbert Hendrik Thomassen à Thuessink van der Hoop = Gijsbert Hendrik Thomassen à Thuessink van der Hoop van Slochteren\n",
    "# Joseph Willem Jan Carel Marie van Nispen = Joseph Willem Jan Carel Marie Nispen tot Sevenaer\n",
    "slovar = dict({'Pieter Hendrik Taets van Amerongen' : 'Pieter Hendrik Taets van Amerongen tot Natewisch',\n",
    "               'Gijsbert Hendrik Thomassen à Thuessink van der Hoop': 'Gijsbert Hendrik Thomassen à Thuessink van der Hoop van Slochteren',\n",
    "               'Joseph Willem Jan Carel Marie van Nispen': 'Joseph Willem Jan Carel Marie Nispen tot Sevenaer',\n",
    "              'Jan Loeff' : 'Johannes Alouisius Loeff'})\n",
    "\n",
    "data = data.replace(slovar)\n",
    "               \n",
    "print(data)"
   ]
  },
  {
   "cell_type": "code",
   "execution_count": 32,
   "metadata": {},
   "outputs": [],
   "source": [
    "#write to file\n",
    "data.to_csv(\"../Data/lowerhouse_clean.csv\", index = False)"
   ]
  },
  {
   "cell_type": "code",
   "execution_count": 33,
   "metadata": {},
   "outputs": [],
   "source": [
    "data = pd.read_csv(\"../Data/upperhouse.csv\")"
   ]
  },
  {
   "cell_type": "code",
   "execution_count": 34,
   "metadata": {},
   "outputs": [
    {
     "name": "stdout",
     "output_type": "stream",
     "text": [
      "      Unnamed: 0                                               Name Parliament\n",
      "0              0                              Dominicus Blankenheym  1871-1874\n",
      "1              1                          Willem Christiaan Borsius  1871-1874\n",
      "2              2                  Eugène Jean Alexander van Bylandt  1871-1874\n",
      "3              3               Hendrikus Albertus Diedericus Coenen  1871-1874\n",
      "4              4                         Willem Herman Cost Jordens  1871-1874\n",
      "...          ...                                                ...        ...\n",
      "1075          78  29 juli: Herman Bavinck overlijdt. In de vacat...  1919-1922\n",
      "1076          79  18 november: Pieter 't Hooft overlijdt. In de ...  1919-1922\n",
      "1077          80  5 januari: Halbe Binnerts (Liberale Unie) over...  1919-1922\n",
      "1078          81  30 januari: Alphonse Michiels van Kessenich ov...  1919-1922\n",
      "1079          82  22 mei: Frederic Joseph Maria Anton Reekers ov...  1919-1922\n",
      "\n",
      "[1080 rows x 3 columns]\n"
     ]
    }
   ],
   "source": [
    "data['Name'] = data['Name'].apply(cleanname)\n",
    "\n",
    "print(data)"
   ]
  },
  {
   "cell_type": "code",
   "execution_count": 35,
   "metadata": {},
   "outputs": [],
   "source": [
    "#cut a few redundant lines\n",
    "data = data[:1065]\n",
    "\n",
    "\n",
    "#correct a few names manually so they are easier to match\n",
    "slovar = dict({\n",
    "'Hans Willem van Aylva van Pallandt' : 'Hans Willem Aylva baron van Pallandt van Waardenburg en Neerijnen',           \n",
    "'Justinus Egbert Hendrik van Nagell' : 'Justinus Egbert Hendrik Nagell van Ampsen',     \n",
    "'Franciscus Xaverius Jacobus van Nispen': 'Franciscus Xaverius Jacobus Nispen tot Pannerden',\n",
    "    'Alphons Sassen van Vlierden': 'Alphonsus Maria Sassen',                    \n",
    "'Jan Joseph Godfried van Voorst': 'Jan Joseph Godfried Voorst tot Voorst',              \n",
    "'Sjoerd Vening Meinesz': 'Sjoerd Anne Vening Meinesz',                                          \n",
    "'Hendrik Gerard van Holthe': 'Hendrik Gerard Holthe tot Echten',                      \n",
    "'Theo van Welderen Rengers':'Theodorus Marius Theresius Welderen baron Renger'})\n",
    "\n",
    "\n",
    "data = data.replace(slovar)"
   ]
  },
  {
   "cell_type": "code",
   "execution_count": 36,
   "metadata": {},
   "outputs": [],
   "source": [
    "#write to csv\n",
    "data.to_csv(\"../Data/upperhouse_clean.csv\", index = False)"
   ]
  },
  {
   "cell_type": "code",
   "execution_count": null,
   "metadata": {},
   "outputs": [],
   "source": []
  }
 ],
 "metadata": {
  "kernelspec": {
   "display_name": "Python 3",
   "language": "python",
   "name": "python3"
  },
  "language_info": {
   "codemirror_mode": {
    "name": "ipython",
    "version": 3
   },
   "file_extension": ".py",
   "mimetype": "text/x-python",
   "name": "python",
   "nbconvert_exporter": "python",
   "pygments_lexer": "ipython3",
   "version": "3.7.6"
  }
 },
 "nbformat": 4,
 "nbformat_minor": 4
}
