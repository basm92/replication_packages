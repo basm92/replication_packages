{
 "cells": [
  {
   "cell_type": "code",
   "execution_count": 10,
   "id": "568bd017",
   "metadata": {},
   "outputs": [],
   "source": [
    "import pandas as pd\n",
    "import numpy as np"
   ]
  },
  {
   "cell_type": "code",
   "execution_count": 40,
   "id": "f1d0f366",
   "metadata": {},
   "outputs": [],
   "source": [
    "data = pd.read_csv(\"../Data/analysis/unmatched_sample_analysis.csv\",\n",
    "                  dtype={'b1-nummer':str}).iloc[:,1:]\n",
    "data = data[(pd.isnull(data['b1-nummer'])) & (~pd.isnull(data['Vermogen']))] "
   ]
  },
  {
   "cell_type": "code",
   "execution_count": 44,
   "id": "caf06bd6",
   "metadata": {},
   "outputs": [],
   "source": [
    "data = data[['Naam']].drop_duplicates()"
   ]
  },
  {
   "cell_type": "code",
   "execution_count": 49,
   "id": "ce45d462",
   "metadata": {},
   "outputs": [],
   "source": [
    "data['Birthplace'] = \"\" ; data['Birthdate'] = \"\""
   ]
  },
  {
   "cell_type": "code",
   "execution_count": 51,
   "id": "4de04c5c",
   "metadata": {},
   "outputs": [],
   "source": [
    "data.to_csv(\"../Data/nonpolitician_data/nonpoliticians_birthplace_birthdates.csv\")"
   ]
  },
  {
   "cell_type": "code",
   "execution_count": null,
   "id": "f82b4ec6",
   "metadata": {},
   "outputs": [],
   "source": []
  }
 ],
 "metadata": {
  "kernelspec": {
   "display_name": "Python 3",
   "language": "python",
   "name": "python3"
  },
  "language_info": {
   "codemirror_mode": {
    "name": "ipython",
    "version": 3
   },
   "file_extension": ".py",
   "mimetype": "text/x-python",
   "name": "python",
   "nbconvert_exporter": "python",
   "pygments_lexer": "ipython3",
   "version": "3.7.10"
  },
  "varInspector": {
   "cols": {
    "lenName": 16,
    "lenType": 16,
    "lenVar": 40
   },
   "kernels_config": {
    "python": {
     "delete_cmd_postfix": "",
     "delete_cmd_prefix": "del ",
     "library": "var_list.py",
     "varRefreshCmd": "print(var_dic_list())"
    },
    "r": {
     "delete_cmd_postfix": ") ",
     "delete_cmd_prefix": "rm(",
     "library": "var_list.r",
     "varRefreshCmd": "cat(var_dic_list()) "
    }
   },
   "types_to_exclude": [
    "module",
    "function",
    "builtin_function_or_method",
    "instance",
    "_Feature"
   ],
   "window_display": false
  }
 },
 "nbformat": 4,
 "nbformat_minor": 5
}
