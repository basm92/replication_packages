{
 "cells": [
  {
   "cell_type": "code",
   "execution_count": 1,
   "id": "1f02c20b",
   "metadata": {},
   "outputs": [],
   "source": [
    "#### Find HDNG Data and restructure it so that it be useful\n",
    "### Also combine this with a key between different municipality names\n",
    "\n",
    "## Import libraries\n",
    "import pandas as pd\n",
    "import urllib.request\n",
    "import re\n",
    "import os"
   ]
  },
  {
   "cell_type": "code",
   "execution_count": 77,
   "id": "ae711855",
   "metadata": {},
   "outputs": [
    {
     "data": {
      "text/plain": [
       "('../Data/hdng.txt', <http.client.HTTPMessage at 0x7fc5f0faf9d0>)"
      ]
     },
     "execution_count": 77,
     "metadata": {},
     "output_type": "execute_result"
    }
   ],
   "source": [
    "## First, download the data and read it into python's memory\n",
    "url=\"https://datasets.iisg.amsterdam/api/access/datafile/10264\"\n",
    "urllib.request.urlretrieve(url, '../Data/hdng.txt')\n"
   ]
  },
  {
   "cell_type": "code",
   "execution_count": 2,
   "id": "ccfd1661",
   "metadata": {},
   "outputs": [],
   "source": [
    "hdng = pd.read_csv(\"../Data/hdng.txt\",  \n",
    "  dtype={'amco':'Int32', 'naam':str, 'variable':str, 'description':str,'information':str, 'year':'Int32','values':str},\n",
    "  delimiter = \",\", \n",
    "  usecols=['amco','name', 'variable', 'description','information','year','value'])\n",
    "\n",
    "#os.remove(\"../Data/hdng.txt\")"
   ]
  },
  {
   "cell_type": "code",
   "execution_count": 3,
   "id": "d251b350",
   "metadata": {},
   "outputs": [],
   "source": [
    "hdng = hdng[(hdng['year'] < 1940) & (~pd.isna(hdng['amco']))]\n",
    "hdng['name'] = hdng['name'].str.title().replace(\"'S Gravenhage\", 'Den Haag').replace(\"'S Hertogenbosch\", \"Den Bosch\")"
   ]
  },
  {
   "cell_type": "markdown",
   "id": "9b2297b0",
   "metadata": {},
   "source": [
    "## Taxes"
   ]
  },
  {
   "cell_type": "code",
   "execution_count": 204,
   "id": "dfc15a41",
   "metadata": {},
   "outputs": [],
   "source": [
    "## Now, clean the data\n",
    "### Fiscal dataframe, the years for\n",
    "### 'totaal personele belastingen' are 1859, 1869, 1870, 1879\n",
    "### we can use this for birthplace and also for district\n",
    "\n",
    "belastingen = hdng[hdng['description'].str.contains('Belastingen')]\n",
    "belastingen = belastingen.iloc[:, [0,1, 4, 5,6]].pivot(columns=['information'], \n",
    "                                                       values='value', \n",
    "                                                       index =['amco', 'year', 'name'])\n",
    "belastingen = belastingen.iloc[:,2].reset_index()\n",
    "# now also get this per inhabitant\n",
    "years_i_look_for = belastingen['year'].unique()\n",
    "bevolking = hdng[(hdng['description'] == 'Bevolking') \n",
    "                 & (hdng['information'] == 'totaal') \n",
    "                 & (hdng['year'].isin(years_i_look_for))]\n",
    "bevolking = bevolking.rename(columns={'value':'bevolking'}).filter(['amco', 'name', 'year', 'bevolking'])\n"
   ]
  },
  {
   "cell_type": "code",
   "execution_count": 205,
   "id": "1385edc3",
   "metadata": {},
   "outputs": [],
   "source": [
    "# Write clean bevolking\n",
    "clean_bevolking = (bevolking\n",
    "    .groupby(['amco','name', 'year'])\n",
    "    .apply(lambda x: np.mean(x['bevolking']))\n",
    "    .reset_index()\n",
    "    .rename(columns={0:'total_inhabitants'})\n",
    ")"
   ]
  },
  {
   "cell_type": "code",
   "execution_count": 207,
   "id": "4d91f522",
   "metadata": {},
   "outputs": [],
   "source": [
    "taxes = pd.merge(belastingen, clean_bevolking, on=['amco', 'year', 'name']).assign(\n",
    "    taxes_percap = lambda df: np.where(\n",
    "        df['totaal personele belastingen'] / df['total_inhabitants'] == float(\"inf\"), \n",
    "        None, \n",
    "        df['totaal personele belastingen'] / df['total_inhabitants']))"
   ]
  },
  {
   "cell_type": "code",
   "execution_count": 208,
   "id": "8e755da3",
   "metadata": {},
   "outputs": [],
   "source": [
    "taxes.to_csv(\"../Data/district_data/taxes_and_population.csv\")"
   ]
  },
  {
   "cell_type": "markdown",
   "id": "2789f885",
   "metadata": {},
   "source": [
    "## Professional composition"
   ]
  },
  {
   "cell_type": "code",
   "execution_count": 140,
   "id": "1f992740",
   "metadata": {},
   "outputs": [],
   "source": [
    "### Professional composition dataframe\n",
    "profcomp = hdng[hdng['description'].str.startswith('Beroepsbevolking')]\n",
    "profcomp = profcomp[(profcomp['information'] == 'totaal') & (profcomp['year'] == 1889)]"
   ]
  },
  {
   "cell_type": "code",
   "execution_count": 141,
   "id": "76ac9a6e",
   "metadata": {},
   "outputs": [],
   "source": [
    "### From this categories, divide into industry, \n",
    "beroepen = profcomp[profcomp['year'] == 1889]['description'].unique()\n",
    "\n",
    "industry = []\n",
    "services = []\n",
    "agriculture = []\n",
    "\n",
    "industriele_beroepen = ['aardewerk', 'drukkersbedrijven', 'bouwbedrijven', 'chemische nijverheid',\n",
    "                       'diamantbewerking', 'houtbewerking', 'kunstnijverheid', 'leder',\n",
    "                       'metaalbewerking', 'mijnen en veenderijen', 'papier', 'textiel',\n",
    "                       'verlichting', 'voeding']\n",
    "service_beroepen = ['huiselijke diensten', 'godsdienst', 'kleding en reiniging', 'krediet',\n",
    "                   'losse werklieden', 'onderwijs', 'verkeerswezen','vrije beroepen', 'verzekeringswezen',\n",
    "                   'handel']\n",
    "landbouw_beroepen = ['landbouw', 'visserij']\n",
    "\n",
    "for i in beroepen:\n",
    "    for j in industriele_beroepen:\n",
    "        if j in i:\n",
    "            industry.append(i)\n",
    "    for z in service_beroepen:\n",
    "        if z in i:\n",
    "            services.append(i)\n",
    "    for y in landbouw_beroepen:\n",
    "        if y in i:\n",
    "            agriculture.append(i)"
   ]
  },
  {
   "cell_type": "code",
   "execution_count": 142,
   "id": "1c2eea51",
   "metadata": {},
   "outputs": [],
   "source": [
    "profcomp = profcomp.assign(category = profcomp['description'].apply(lambda row: \n",
    "                np.where(row in industry, \"industry\",\n",
    "               np.where(row in services, \"services\",\n",
    "                       \"agriculture\"))\n",
    "               )\n",
    "               )"
   ]
  },
  {
   "cell_type": "code",
   "execution_count": 194,
   "id": "f14d316a",
   "metadata": {},
   "outputs": [],
   "source": [
    "total_profcomp = (profcomp.groupby(['amco','name','year','category'])\n",
    "            .apply(lambda x: sum(x['value'].fillna(0)))\n",
    "            .reset_index()\n",
    "            .rename(columns={0:'total_profession_count'})\n",
    "       )"
   ]
  },
  {
   "cell_type": "code",
   "execution_count": 195,
   "id": "7715a802",
   "metadata": {},
   "outputs": [],
   "source": [
    "clean_bevolking = (\n",
    "    bevolking[bevolking['year'] == 1889]\n",
    "    .groupby(['amco','name'])\n",
    "    .apply(lambda x: max(x['bevolking']))\n",
    "    .reset_index()\n",
    "    .rename(columns={0:'total_inhabitants'})\n",
    ")"
   ]
  },
  {
   "cell_type": "code",
   "execution_count": 196,
   "id": "9cbf39b2",
   "metadata": {},
   "outputs": [],
   "source": [
    "total_profcomp = total_profcomp.merge(clean_bevolking, \n",
    "                     how = 'left',\n",
    "                     on = ['amco', 'name']\n",
    "    ).assign(prof_count_per_cap = lambda x: x['total_profession_count'] / x['total_inhabitants'])\n"
   ]
  },
  {
   "cell_type": "code",
   "execution_count": 197,
   "id": "4f0bea8d",
   "metadata": {},
   "outputs": [],
   "source": [
    "total_profcomp.to_csv(\"../Data/district_data/professional_composition.csv\")"
   ]
  },
  {
   "cell_type": "markdown",
   "id": "d7086ea2",
   "metadata": {},
   "source": [
    "## Other variables from HDNG\n",
    "\n",
    "### Onderwijsuitgaven + Alfabetisme"
   ]
  },
  {
   "cell_type": "code",
   "execution_count": 220,
   "id": "51265a77",
   "metadata": {},
   "outputs": [],
   "source": [
    "others = hdng[(hdng['description'] == 'Onderwijsuitgaven in guldens') | (hdng['description'] == 'Alfabetisme')].iloc[:, [0,1,3, 5,6]]"
   ]
  },
  {
   "cell_type": "code",
   "execution_count": 226,
   "id": "c9e9ad5c",
   "metadata": {},
   "outputs": [],
   "source": [
    "others = (others\n",
    "     .pivot(columns='description', values='value', index = ['amco', 'name', 'year'])\n",
    "     .reset_index()\n",
    ")"
   ]
  },
  {
   "cell_type": "code",
   "execution_count": 227,
   "id": "9702de25",
   "metadata": {},
   "outputs": [],
   "source": [
    "others.to_csv(\"../Data/district_data/alphabetism_educ_expenses.csv\")"
   ]
  },
  {
   "cell_type": "markdown",
   "id": "fce64811",
   "metadata": {},
   "source": [
    "### Religion over time"
   ]
  },
  {
   "cell_type": "code",
   "execution_count": 28,
   "id": "3dfedf0b",
   "metadata": {},
   "outputs": [],
   "source": [
    "religion = hdng[hdng['description'] == 'Aantal gelovigen'].rename(columns={'value':'aantal'})\n",
    "bevolking = hdng[hdng['description'] == 'Bevolking'].rename(columns={'value':'bevolking'}).filter(['amco', 'name','year','bevolking'])\n",
    "\n",
    "clean_bevolking = (bevolking\n",
    "    .groupby(['amco','name', 'year'])\n",
    "    .apply(lambda x: np.mean(x['bevolking']))\n",
    "    .reset_index()\n",
    "    .rename(columns={0:'total_inhabitants'})\n",
    ")\n",
    "\n",
    "religion_per_cap = pd.merge(religion, clean_bevolking, \n",
    "         left_on =['amco', 'name','year'],\n",
    "        right_on=['amco','name','year'], how='left')"
   ]
  },
  {
   "cell_type": "code",
   "execution_count": 30,
   "id": "360bf580",
   "metadata": {},
   "outputs": [],
   "source": [
    "religion_per_cap.to_csv(\"../Data/district_data/religion_over_time.csv\")"
   ]
  },
  {
   "cell_type": "code",
   "execution_count": null,
   "id": "7f34bea6",
   "metadata": {},
   "outputs": [],
   "source": []
  }
 ],
 "metadata": {
  "kernelspec": {
   "display_name": "Python 3",
   "language": "python",
   "name": "python3"
  },
  "language_info": {
   "codemirror_mode": {
    "name": "ipython",
    "version": 3
   },
   "file_extension": ".py",
   "mimetype": "text/x-python",
   "name": "python",
   "nbconvert_exporter": "python",
   "pygments_lexer": "ipython3",
   "version": "3.7.10"
  },
  "varInspector": {
   "cols": {
    "lenName": 16,
    "lenType": 16,
    "lenVar": 40
   },
   "kernels_config": {
    "python": {
     "delete_cmd_postfix": "",
     "delete_cmd_prefix": "del ",
     "library": "var_list.py",
     "varRefreshCmd": "print(var_dic_list())"
    },
    "r": {
     "delete_cmd_postfix": ") ",
     "delete_cmd_prefix": "rm(",
     "library": "var_list.r",
     "varRefreshCmd": "cat(var_dic_list()) "
    }
   },
   "types_to_exclude": [
    "module",
    "function",
    "builtin_function_or_method",
    "instance",
    "_Feature"
   ],
   "window_display": false
  }
 },
 "nbformat": 4,
 "nbformat_minor": 5
}
